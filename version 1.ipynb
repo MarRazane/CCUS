{
 "cells": [
  {
   "cell_type": "code",
   "execution_count": 1,
   "metadata": {},
   "outputs": [],
   "source": [
    "import numpy as np\n",
    "import pandas as pd\n",
    "import matplotlib.pyplot as plt\n",
    "from sklearn.cluster import DBSCAN\n",
    "from sklearn.preprocessing import StandardScaler\n",
    "from sklearn.metrics import silhouette_score\n",
    "from sklearn import metrics\n",
    "import os\n",
    "import time"
   ]
  },
  {
   "cell_type": "code",
   "execution_count": 2,
   "metadata": {},
   "outputs": [],
   "source": [
    "def DBSCAN_sklearn(X,eps,min_samples):\n",
    "    db = DBSCAN(eps=eps, min_samples=min_samples).fit(X)\n",
    "    labels = db.labels_\n",
    "    n_clusters_ = len(set(labels)) - (1 if -1 in labels else 0)\n",
    "    n_noise_ = list(labels).count(-1)\n",
    "    return labels,n_clusters_,n_noise_"
   ]
  },
  {
   "cell_type": "code",
   "execution_count": 3,
   "metadata": {},
   "outputs": [
    {
     "name": "stdout",
     "output_type": "stream",
     "text": [
      "                             Project             Country       Start  \\\n",
      "0    Kohler, Wilkinson and Buckridge  Dominican Republic   9/20/2021   \n",
      "1                   Smitham and Sons               China    8/3/2020   \n",
      "2          Jenkins, Huels and Zulauf       United States    1/5/2023   \n",
      "3          Terry, Emmerich and Berge              Sweden   12/7/2021   \n",
      "4      Padberg, Schamberger and Will         Philippines   3/19/2023   \n",
      "..                               ...                 ...         ...   \n",
      "995  Sauer, Daugherty and McLaughlin               China  11/14/2019   \n",
      "996                     Terry-Grimes               China   8/17/2023   \n",
      "997                      Dickens LLC              France    9/7/2020   \n",
      "998                       Hauck-Auer              Poland   4/23/2020   \n",
      "999               Reynolds-Hettinger              Russia   1/16/2020   \n",
      "\n",
      "            End        Budget  FindingSource (%)     Category  TRL Start  \\\n",
      "0     8/14/2024  $36399069.63               77.0      capture          2   \n",
      "1     4/18/2024  $48806994.79               84.0  utilization          7   \n",
      "2     6/10/2024  $11548939.83               82.6  utilization          3   \n",
      "3     12/4/2023  $17512435.77               71.1  utilization          6   \n",
      "4     8/18/2024  $18929345.53               66.8      capture          4   \n",
      "..          ...           ...                ...          ...        ...   \n",
      "995   8/29/2024  $51230399.26               51.7   Full Chain          7   \n",
      "996   3/23/2026  $23925572.49               50.3          T&S          3   \n",
      "997    7/3/2025  $87475622.39               93.4          T&S          7   \n",
      "998  11/20/2024   $1259344.27               63.9  utilization          6   \n",
      "999   4/26/2026  $47882510.76               61.8   Full Chain          5   \n",
      "\n",
      "     TRL End  profit (%)  Emissions decrease  \n",
      "0          3          -4                 6.3  \n",
      "1          5          -6                 1.5  \n",
      "2          4          14                 1.6  \n",
      "3          3           7                 7.1  \n",
      "4          7           0                 6.9  \n",
      "..       ...         ...                 ...  \n",
      "995        9          21                 7.9  \n",
      "996        7          25                 4.2  \n",
      "997        6          12                 4.6  \n",
      "998        5           4                 3.5  \n",
      "999        4          13                 9.1  \n",
      "\n",
      "[1000 rows x 11 columns]\n"
     ]
    }
   ],
   "source": [
    "ORIGINAL_PATH = os.path.join('.', 'MOCK_DATA (1).xlsx')\n",
    "\n",
    "global df\n",
    "\n",
    "df = pd.read_excel(ORIGINAL_PATH)\n",
    "\n",
    "print(df)"
   ]
  },
  {
   "cell_type": "code",
   "execution_count": 4,
   "metadata": {},
   "outputs": [],
   "source": [
    "drop_colomn =['Project','Country']\n",
    "df.drop(columns=drop_colomn, inplace=True)"
   ]
  },
  {
   "cell_type": "code",
   "execution_count": 5,
   "metadata": {},
   "outputs": [
    {
     "name": "stdout",
     "output_type": "stream",
     "text": [
      "          Start         End        Budget  FindingSource (%)     Category  \\\n",
      "0     9/20/2021   8/14/2024  $36399069.63               77.0      capture   \n",
      "1      8/3/2020   4/18/2024  $48806994.79               84.0  utilization   \n",
      "2      1/5/2023   6/10/2024  $11548939.83               82.6  utilization   \n",
      "3     12/7/2021   12/4/2023  $17512435.77               71.1  utilization   \n",
      "4     3/19/2023   8/18/2024  $18929345.53               66.8      capture   \n",
      "..          ...         ...           ...                ...          ...   \n",
      "995  11/14/2019   8/29/2024  $51230399.26               51.7   Full Chain   \n",
      "996   8/17/2023   3/23/2026  $23925572.49               50.3          T&S   \n",
      "997    9/7/2020    7/3/2025  $87475622.39               93.4          T&S   \n",
      "998   4/23/2020  11/20/2024   $1259344.27               63.9  utilization   \n",
      "999   1/16/2020   4/26/2026  $47882510.76               61.8   Full Chain   \n",
      "\n",
      "     TRL Start  TRL End  profit (%)  Emissions decrease  \n",
      "0            2        3          -4                 6.3  \n",
      "1            7        5          -6                 1.5  \n",
      "2            3        4          14                 1.6  \n",
      "3            6        3           7                 7.1  \n",
      "4            4        7           0                 6.9  \n",
      "..         ...      ...         ...                 ...  \n",
      "995          7        9          21                 7.9  \n",
      "996          3        7          25                 4.2  \n",
      "997          7        6          12                 4.6  \n",
      "998          6        5           4                 3.5  \n",
      "999          5        4          13                 9.1  \n",
      "\n",
      "[1000 rows x 9 columns]\n"
     ]
    }
   ],
   "source": [
    "print(df)"
   ]
  },
  {
   "cell_type": "code",
   "execution_count": 6,
   "metadata": {},
   "outputs": [],
   "source": [
    "df['Start'] = pd.to_datetime(df['Start'], format='%m/%d/%Y')\n",
    "df['End'] = pd.to_datetime(df['End'], format='%m/%d/%Y')"
   ]
  },
  {
   "cell_type": "code",
   "execution_count": 7,
   "metadata": {},
   "outputs": [],
   "source": [
    "df['Date_difference'] = (df['End'] - df['Start']).dt.days"
   ]
  },
  {
   "cell_type": "code",
   "execution_count": 8,
   "metadata": {},
   "outputs": [
    {
     "name": "stdout",
     "output_type": "stream",
     "text": [
      "         Start        End        Budget  FindingSource (%)     Category  \\\n",
      "0   2021-09-20 2024-08-14  $36399069.63               77.0      capture   \n",
      "1   2020-08-03 2024-04-18  $48806994.79               84.0  utilization   \n",
      "2   2023-01-05 2024-06-10  $11548939.83               82.6  utilization   \n",
      "3   2021-12-07 2023-12-04  $17512435.77               71.1  utilization   \n",
      "4   2023-03-19 2024-08-18  $18929345.53               66.8      capture   \n",
      "..         ...        ...           ...                ...          ...   \n",
      "995 2019-11-14 2024-08-29  $51230399.26               51.7   Full Chain   \n",
      "996 2023-08-17 2026-03-23  $23925572.49               50.3          T&S   \n",
      "997 2020-09-07 2025-07-03  $87475622.39               93.4          T&S   \n",
      "998 2020-04-23 2024-11-20   $1259344.27               63.9  utilization   \n",
      "999 2020-01-16 2026-04-26  $47882510.76               61.8   Full Chain   \n",
      "\n",
      "     TRL Start  TRL End  profit (%)  Emissions decrease  Date_difference  \n",
      "0            2        3          -4                 6.3             1059  \n",
      "1            7        5          -6                 1.5             1354  \n",
      "2            3        4          14                 1.6              522  \n",
      "3            6        3           7                 7.1              727  \n",
      "4            4        7           0                 6.9              518  \n",
      "..         ...      ...         ...                 ...              ...  \n",
      "995          7        9          21                 7.9             1750  \n",
      "996          3        7          25                 4.2              949  \n",
      "997          7        6          12                 4.6             1760  \n",
      "998          6        5           4                 3.5             1672  \n",
      "999          5        4          13                 9.1             2292  \n",
      "\n",
      "[1000 rows x 10 columns]\n"
     ]
    }
   ],
   "source": [
    "print(df)"
   ]
  },
  {
   "cell_type": "code",
   "execution_count": 9,
   "metadata": {},
   "outputs": [],
   "source": [
    "drop_colomn =['Start','End']\n",
    "df.drop(columns=drop_colomn, inplace=True)"
   ]
  },
  {
   "cell_type": "code",
   "execution_count": 10,
   "metadata": {},
   "outputs": [
    {
     "name": "stdout",
     "output_type": "stream",
     "text": [
      "           Budget  FindingSource (%)     Category  TRL Start  TRL End  \\\n",
      "0    $36399069.63               77.0      capture          2        3   \n",
      "1    $48806994.79               84.0  utilization          7        5   \n",
      "2    $11548939.83               82.6  utilization          3        4   \n",
      "3    $17512435.77               71.1  utilization          6        3   \n",
      "4    $18929345.53               66.8      capture          4        7   \n",
      "..            ...                ...          ...        ...      ...   \n",
      "995  $51230399.26               51.7   Full Chain          7        9   \n",
      "996  $23925572.49               50.3          T&S          3        7   \n",
      "997  $87475622.39               93.4          T&S          7        6   \n",
      "998   $1259344.27               63.9  utilization          6        5   \n",
      "999  $47882510.76               61.8   Full Chain          5        4   \n",
      "\n",
      "     profit (%)  Emissions decrease  Date_difference  \n",
      "0            -4                 6.3             1059  \n",
      "1            -6                 1.5             1354  \n",
      "2            14                 1.6              522  \n",
      "3             7                 7.1              727  \n",
      "4             0                 6.9              518  \n",
      "..          ...                 ...              ...  \n",
      "995          21                 7.9             1750  \n",
      "996          25                 4.2              949  \n",
      "997          12                 4.6             1760  \n",
      "998           4                 3.5             1672  \n",
      "999          13                 9.1             2292  \n",
      "\n",
      "[1000 rows x 8 columns]\n"
     ]
    }
   ],
   "source": [
    "print(df)"
   ]
  },
  {
   "cell_type": "code",
   "execution_count": 11,
   "metadata": {},
   "outputs": [
    {
     "data": {
      "text/plain": [
       "array(['capture', 'utilization', 'T&S', 'Full Chain'], dtype=object)"
      ]
     },
     "execution_count": 11,
     "metadata": {},
     "output_type": "execute_result"
    }
   ],
   "source": [
    "df.Category.unique()"
   ]
  },
  {
   "cell_type": "code",
   "execution_count": 12,
   "metadata": {},
   "outputs": [],
   "source": [
    "df['Category'].replace(['utilization', 'capture', 'T&S', 'Full Chain'],[0,1,2,3],inplace=True)"
   ]
  },
  {
   "cell_type": "code",
   "execution_count": 13,
   "metadata": {},
   "outputs": [
    {
     "name": "stdout",
     "output_type": "stream",
     "text": [
      "           Budget  FindingSource (%)  Category  TRL Start  TRL End  \\\n",
      "0    $36399069.63               77.0         1          2        3   \n",
      "1    $48806994.79               84.0         0          7        5   \n",
      "2    $11548939.83               82.6         0          3        4   \n",
      "3    $17512435.77               71.1         0          6        3   \n",
      "4    $18929345.53               66.8         1          4        7   \n",
      "..            ...                ...       ...        ...      ...   \n",
      "995  $51230399.26               51.7         3          7        9   \n",
      "996  $23925572.49               50.3         2          3        7   \n",
      "997  $87475622.39               93.4         2          7        6   \n",
      "998   $1259344.27               63.9         0          6        5   \n",
      "999  $47882510.76               61.8         3          5        4   \n",
      "\n",
      "     profit (%)  Emissions decrease  Date_difference  \n",
      "0            -4                 6.3             1059  \n",
      "1            -6                 1.5             1354  \n",
      "2            14                 1.6              522  \n",
      "3             7                 7.1              727  \n",
      "4             0                 6.9              518  \n",
      "..          ...                 ...              ...  \n",
      "995          21                 7.9             1750  \n",
      "996          25                 4.2              949  \n",
      "997          12                 4.6             1760  \n",
      "998           4                 3.5             1672  \n",
      "999          13                 9.1             2292  \n",
      "\n",
      "[1000 rows x 8 columns]\n"
     ]
    }
   ],
   "source": [
    "print(df)"
   ]
  },
  {
   "cell_type": "code",
   "execution_count": 14,
   "metadata": {},
   "outputs": [
    {
     "name": "stderr",
     "output_type": "stream",
     "text": [
      "C:\\Users\\Timgad informatique\\AppData\\Local\\Temp\\ipykernel_4056\\978855766.py:2: SettingWithCopyWarning: \n",
      "A value is trying to be set on a copy of a slice from a DataFrame\n",
      "\n",
      "See the caveats in the documentation: https://pandas.pydata.org/pandas-docs/stable/user_guide/indexing.html#returning-a-view-versus-a-copy\n",
      "  df['Budget'][index] = e[1:]\n"
     ]
    }
   ],
   "source": [
    "for index,e in enumerate(df['Budget']): \n",
    "    df['Budget'][index] = e[1:]\n",
    "    "
   ]
  },
  {
   "cell_type": "code",
   "execution_count": 15,
   "metadata": {},
   "outputs": [],
   "source": [
    "df['Budget'] = df['Budget'].astype(float)\n"
   ]
  },
  {
   "cell_type": "code",
   "execution_count": 16,
   "metadata": {},
   "outputs": [
    {
     "name": "stdout",
     "output_type": "stream",
     "text": [
      "          Budget  FindingSource (%)  Category  TRL Start  TRL End  profit (%)  \\\n",
      "0    36399069.63               77.0         1          2        3          -4   \n",
      "1    48806994.79               84.0         0          7        5          -6   \n",
      "2    11548939.83               82.6         0          3        4          14   \n",
      "3    17512435.77               71.1         0          6        3           7   \n",
      "4    18929345.53               66.8         1          4        7           0   \n",
      "..           ...                ...       ...        ...      ...         ...   \n",
      "995  51230399.26               51.7         3          7        9          21   \n",
      "996  23925572.49               50.3         2          3        7          25   \n",
      "997  87475622.39               93.4         2          7        6          12   \n",
      "998   1259344.27               63.9         0          6        5           4   \n",
      "999  47882510.76               61.8         3          5        4          13   \n",
      "\n",
      "     Emissions decrease  Date_difference  \n",
      "0                   6.3             1059  \n",
      "1                   1.5             1354  \n",
      "2                   1.6              522  \n",
      "3                   7.1              727  \n",
      "4                   6.9              518  \n",
      "..                  ...              ...  \n",
      "995                 7.9             1750  \n",
      "996                 4.2              949  \n",
      "997                 4.6             1760  \n",
      "998                 3.5             1672  \n",
      "999                 9.1             2292  \n",
      "\n",
      "[1000 rows x 8 columns]\n"
     ]
    }
   ],
   "source": [
    "print(df)"
   ]
  },
  {
   "cell_type": "code",
   "execution_count": 17,
   "metadata": {},
   "outputs": [],
   "source": [
    "def z_score():\n",
    "    for x in df.columns :\n",
    "        if(df[x].dtype.kind in 'iufcb' ):\n",
    "            df[x] = (df[x] - df[x].mean()) / df[x].std()"
   ]
  },
  {
   "cell_type": "code",
   "execution_count": 18,
   "metadata": {},
   "outputs": [],
   "source": [
    "z_score()"
   ]
  },
  {
   "cell_type": "code",
   "execution_count": 19,
   "metadata": {},
   "outputs": [
    {
     "name": "stdout",
     "output_type": "stream",
     "text": [
      "       Budget  FindingSource (%)  Category  TRL Start   TRL End  profit (%)  \\\n",
      "0   -0.516692           0.129961 -0.481346  -1.207901 -1.026350   -1.284319   \n",
      "1   -0.080750           0.610736 -1.384435   0.740327 -0.157298   -1.438703   \n",
      "2   -1.389782           0.514581 -1.384435  -0.818256 -0.591824    0.105135   \n",
      "3   -1.180259          -0.275265 -1.384435   0.350681 -1.026350   -0.435208   \n",
      "4   -1.130477          -0.570598 -0.481346  -0.428610  0.711753   -0.975552   \n",
      "..        ...                ...       ...        ...       ...         ...   \n",
      "995  0.004395          -1.607700  1.324831   0.740327  1.580805    0.645479   \n",
      "996 -0.954939          -1.703855  0.421742  -0.818256  0.711753    0.954247   \n",
      "997  1.277842           1.256349  0.421742   0.740327  0.277228   -0.049248   \n",
      "998 -1.751299          -0.769777 -1.384435   0.350681 -0.157298   -0.666784   \n",
      "999 -0.113231          -0.914010  1.324831  -0.038965 -0.591824    0.027943   \n",
      "\n",
      "     Emissions decrease  Date_difference  \n",
      "0              0.355793        -0.416808  \n",
      "1             -1.497498         0.161828  \n",
      "2             -1.458887        -1.470121  \n",
      "3              0.664675        -1.068018  \n",
      "4              0.587455        -1.477967  \n",
      "..                  ...              ...  \n",
      "995            0.973557         0.938573  \n",
      "996           -0.455021        -0.632571  \n",
      "997           -0.300581         0.958187  \n",
      "998           -0.725293         0.785577  \n",
      "999            1.436879         2.001693  \n",
      "\n",
      "[1000 rows x 8 columns]\n"
     ]
    }
   ],
   "source": [
    "print(df)"
   ]
  },
  {
   "cell_type": "code",
   "execution_count": 20,
   "metadata": {},
   "outputs": [],
   "source": [
    "X = df.to_numpy()"
   ]
  },
  {
   "cell_type": "code",
   "execution_count": 21,
   "metadata": {},
   "outputs": [],
   "source": [
    "from sklearn.cluster import AgglomerativeClustering\n",
    "from sklearn.metrics import silhouette_score"
   ]
  },
  {
   "cell_type": "code",
   "execution_count": 22,
   "metadata": {},
   "outputs": [],
   "source": [
    "def agglomerative_clustering_sklearn(X, n_clusters):\n",
    "    clustering = AgglomerativeClustering(n_clusters=n_clusters).fit(X)\n",
    "    clusters = []\n",
    "    for i in range(n_clusters):\n",
    "        clusters.append([])\n",
    "    for i in range(len(X)):\n",
    "        clusters[clustering.labels_[i]].append(i)\n",
    "    return clusters"
   ]
  },
  {
   "cell_type": "code",
   "execution_count": 23,
   "metadata": {},
   "outputs": [
    {
     "name": "stdout",
     "output_type": "stream",
     "text": [
      "Execution ended \n",
      "number of clusters:  2\n",
      "Sillouette score:  0.0642937364843988\n"
     ]
    }
   ],
   "source": [
    "i = 2\n",
    "clusters = agglomerative_clustering_sklearn(X, i)\n",
    "print(\"Execution ended \")\n",
    "labels = np.zeros(len(X))\n",
    "for i in range(len(clusters)):\n",
    "    for j in range(len(clusters[i])):\n",
    "        labels[clusters[i][j]] = i\n",
    "print(\"number of clusters: \", len(clusters))\n",
    "score = silhouette_score(X, labels, metric='euclidean')\n",
    "print(\"Sillouette score: \", score)"
   ]
  },
  {
   "cell_type": "code",
   "execution_count": 25,
   "metadata": {},
   "outputs": [
    {
     "name": "stdout",
     "output_type": "stream",
     "text": [
      "(1000,)\n"
     ]
    }
   ],
   "source": [
    "print(labels.shape)"
   ]
  },
  {
   "cell_type": "code",
   "execution_count": 26,
   "metadata": {},
   "outputs": [
    {
     "name": "stdout",
     "output_type": "stream",
     "text": [
      "(1000, 8)\n"
     ]
    }
   ],
   "source": [
    "print(X.shape)"
   ]
  },
  {
   "cell_type": "code",
   "execution_count": 27,
   "metadata": {},
   "outputs": [],
   "source": [
    "new_df = pd.concat([df, pd.Series(labels, name='Label')], axis=1)"
   ]
  },
  {
   "cell_type": "code",
   "execution_count": 28,
   "metadata": {},
   "outputs": [
    {
     "name": "stdout",
     "output_type": "stream",
     "text": [
      "       Budget  FindingSource (%)  Category  TRL Start   TRL End  profit (%)  \\\n",
      "0   -0.516692           0.129961 -0.481346  -1.207901 -1.026350   -1.284319   \n",
      "1   -0.080750           0.610736 -1.384435   0.740327 -0.157298   -1.438703   \n",
      "2   -1.389782           0.514581 -1.384435  -0.818256 -0.591824    0.105135   \n",
      "3   -1.180259          -0.275265 -1.384435   0.350681 -1.026350   -0.435208   \n",
      "4   -1.130477          -0.570598 -0.481346  -0.428610  0.711753   -0.975552   \n",
      "..        ...                ...       ...        ...       ...         ...   \n",
      "995  0.004395          -1.607700  1.324831   0.740327  1.580805    0.645479   \n",
      "996 -0.954939          -1.703855  0.421742  -0.818256  0.711753    0.954247   \n",
      "997  1.277842           1.256349  0.421742   0.740327  0.277228   -0.049248   \n",
      "998 -1.751299          -0.769777 -1.384435   0.350681 -0.157298   -0.666784   \n",
      "999 -0.113231          -0.914010  1.324831  -0.038965 -0.591824    0.027943   \n",
      "\n",
      "     Emissions decrease  Date_difference  Label  \n",
      "0              0.355793        -0.416808    1.0  \n",
      "1             -1.497498         0.161828    0.0  \n",
      "2             -1.458887        -1.470121    1.0  \n",
      "3              0.664675        -1.068018    0.0  \n",
      "4              0.587455        -1.477967    0.0  \n",
      "..                  ...              ...    ...  \n",
      "995            0.973557         0.938573    0.0  \n",
      "996           -0.455021        -0.632571    0.0  \n",
      "997           -0.300581         0.958187    0.0  \n",
      "998           -0.725293         0.785577    1.0  \n",
      "999            1.436879         2.001693    1.0  \n",
      "\n",
      "[1000 rows x 9 columns]\n"
     ]
    }
   ],
   "source": [
    "print(new_df)"
   ]
  },
  {
   "cell_type": "code",
   "execution_count": 29,
   "metadata": {},
   "outputs": [
    {
     "name": "stdout",
     "output_type": "stream",
     "text": [
      "                             Project             Country       Start  \\\n",
      "0    Kohler, Wilkinson and Buckridge  Dominican Republic   9/20/2021   \n",
      "1                   Smitham and Sons               China    8/3/2020   \n",
      "2          Jenkins, Huels and Zulauf       United States    1/5/2023   \n",
      "3          Terry, Emmerich and Berge              Sweden   12/7/2021   \n",
      "4      Padberg, Schamberger and Will         Philippines   3/19/2023   \n",
      "..                               ...                 ...         ...   \n",
      "995  Sauer, Daugherty and McLaughlin               China  11/14/2019   \n",
      "996                     Terry-Grimes               China   8/17/2023   \n",
      "997                      Dickens LLC              France    9/7/2020   \n",
      "998                       Hauck-Auer              Poland   4/23/2020   \n",
      "999               Reynolds-Hettinger              Russia   1/16/2020   \n",
      "\n",
      "            End        Budget  FindingSource (%)     Category  TRL Start  \\\n",
      "0     8/14/2024  $36399069.63               77.0      capture          2   \n",
      "1     4/18/2024  $48806994.79               84.0  utilization          7   \n",
      "2     6/10/2024  $11548939.83               82.6  utilization          3   \n",
      "3     12/4/2023  $17512435.77               71.1  utilization          6   \n",
      "4     8/18/2024  $18929345.53               66.8      capture          4   \n",
      "..          ...           ...                ...          ...        ...   \n",
      "995   8/29/2024  $51230399.26               51.7   Full Chain          7   \n",
      "996   3/23/2026  $23925572.49               50.3          T&S          3   \n",
      "997    7/3/2025  $87475622.39               93.4          T&S          7   \n",
      "998  11/20/2024   $1259344.27               63.9  utilization          6   \n",
      "999   4/26/2026  $47882510.76               61.8   Full Chain          5   \n",
      "\n",
      "     TRL End  profit (%)  Emissions decrease  \n",
      "0          3          -4                 6.3  \n",
      "1          5          -6                 1.5  \n",
      "2          4          14                 1.6  \n",
      "3          3           7                 7.1  \n",
      "4          7           0                 6.9  \n",
      "..       ...         ...                 ...  \n",
      "995        9          21                 7.9  \n",
      "996        7          25                 4.2  \n",
      "997        6          12                 4.6  \n",
      "998        5           4                 3.5  \n",
      "999        4          13                 9.1  \n",
      "\n",
      "[1000 rows x 11 columns]\n"
     ]
    }
   ],
   "source": [
    "global df2\n",
    "\n",
    "df2 = pd.read_excel(ORIGINAL_PATH)\n",
    "\n",
    "print(df2)"
   ]
  },
  {
   "cell_type": "code",
   "execution_count": 30,
   "metadata": {},
   "outputs": [],
   "source": [
    "new_df2 = pd.concat([df2, pd.Series(labels, name='Label')], axis=1)"
   ]
  },
  {
   "cell_type": "code",
   "execution_count": 36,
   "metadata": {},
   "outputs": [
    {
     "name": "stdout",
     "output_type": "stream",
     "text": [
      "<class 'pandas.core.frame.DataFrame'>\n",
      "RangeIndex: 1000 entries, 0 to 999\n",
      "Data columns (total 12 columns):\n",
      " #   Column              Non-Null Count  Dtype  \n",
      "---  ------              --------------  -----  \n",
      " 0   Project             1000 non-null   object \n",
      " 1   Country             1000 non-null   object \n",
      " 2   Start               1000 non-null   object \n",
      " 3   End                 1000 non-null   object \n",
      " 4   Budget              1000 non-null   object \n",
      " 5   FindingSource (%)   1000 non-null   float64\n",
      " 6   Category            1000 non-null   object \n",
      " 7   TRL Start           1000 non-null   int64  \n",
      " 8   TRL End             1000 non-null   int64  \n",
      " 9   profit (%)          1000 non-null   int64  \n",
      " 10  Emissions decrease  1000 non-null   float64\n",
      " 11  Label               1000 non-null   int64  \n",
      "dtypes: float64(2), int64(4), object(6)\n",
      "memory usage: 93.9+ KB\n",
      "None\n"
     ]
    }
   ],
   "source": [
    "print(new_df2.info())"
   ]
  },
  {
   "cell_type": "code",
   "execution_count": 35,
   "metadata": {},
   "outputs": [],
   "source": [
    "new_df2['Label'] = new_df2['Label'].astype('int64')"
   ]
  },
  {
   "cell_type": "code",
   "execution_count": 39,
   "metadata": {},
   "outputs": [],
   "source": [
    "OUTPUT_FILE = os.path.join('.', 'output.xlsx')\n",
    "new_df2.to_excel(OUTPUT_FILE,header = True)"
   ]
  },
  {
   "cell_type": "code",
   "execution_count": null,
   "metadata": {},
   "outputs": [],
   "source": []
  }
 ],
 "metadata": {
  "kernelspec": {
   "display_name": "Python 3",
   "language": "python",
   "name": "python3"
  },
  "language_info": {
   "codemirror_mode": {
    "name": "ipython",
    "version": 3
   },
   "file_extension": ".py",
   "mimetype": "text/x-python",
   "name": "python",
   "nbconvert_exporter": "python",
   "pygments_lexer": "ipython3",
   "version": "3.10.5"
  },
  "orig_nbformat": 4
 },
 "nbformat": 4,
 "nbformat_minor": 2
}
